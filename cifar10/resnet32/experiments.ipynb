{
 "cells": [
  {
   "cell_type": "code",
   "execution_count": 1,
   "metadata": {},
   "outputs": [
    {
     "name": "stdout",
     "output_type": "stream",
     "text": [
      "Installed kernelspec env in /h/u14/c2/00/saragihd/.local/share/jupyter/kernels/env\n"
     ]
    }
   ],
   "source": [
    "!python3 -m ipykernel install --user --name=env"
   ]
  },
  {
   "cell_type": "code",
   "execution_count": 2,
   "metadata": {},
   "outputs": [],
   "source": [
    "# Load save \n",
    "import torch\n",
    "import torchvision.datasets as dset\n",
    "import torchvision.transforms as transforms\n",
    "import matplotlib.pyplot as plt\n",
    "import numpy as np\n",
    "import models\n",
    "from models.quantization import quan_Conv2d, quan_Linear, quantize"
   ]
  },
  {
   "cell_type": "code",
   "execution_count": 3,
   "metadata": {},
   "outputs": [],
   "source": [
    "# Load mnist\n",
    "root = './data'\n",
    "download = True\n",
    "train_set = dset.MNIST(root=root, train=True, transform=None, download=download)\n",
    "test_set = dset.MNIST(root=root, train=False, transform=None, download=download)"
   ]
  },
  {
   "cell_type": "code",
   "execution_count": 9,
   "metadata": {},
   "outputs": [
    {
     "name": "stdout",
     "output_type": "stream",
     "text": [
      "Label: 5\n",
      "Image Size: (28, 28)\n",
      "Numpy Shape: (28, 28)\n",
      "Showing\n"
     ]
    }
   ],
   "source": [
    "# Show data\n",
    "def show(img):\n",
    "    # Show image\n",
    "    # Show with PIL\n",
    "    plt.imshow(img, cmap='gray')\n",
    "    print(\"Showing\")\n",
    "    plt.show()\n",
    "\n",
    "# Get image\n",
    "img, label = train_set[0]\n",
    "print('Label:', label)\n",
    "print('Image Size:', img.size)\n",
    "\n",
    "# Convert to numpy\n",
    "img = np.array(img)\n",
    "print('Numpy Shape:', img.shape)\n",
    "\n",
    "# Show image\n",
    "show(img)"
   ]
  },
  {
   "cell_type": "code",
   "execution_count": 10,
   "metadata": {},
   "outputs": [
    {
     "name": "stdout",
     "output_type": "stream",
     "text": [
      "Transformed Shape: torch.Size([1, 32, 32])\n",
      "Showing\n"
     ]
    }
   ],
   "source": [
    "# Add colour jitter, random affine, random horizontal flip, random rotation, gaussian blur, random erasing, and normalization\n",
    "mean = (0.5,)\n",
    "std = (0.5,)\n",
    "transform = transforms.Compose([\n",
    "    transforms.Resize(32),\n",
    "    transforms.RandomCrop(32, padding=4),\n",
    "    transforms.ToTensor(),\n",
    "    transforms.Normalize(mean, std),\n",
    "    transforms.ColorJitter(brightness=0.1, contrast=0.1, saturation=0.1, hue=0.1),\n",
    "    transforms.RandomAffine(degrees=5, translate=(0.1, 0.1), scale=(0.9, 1.1)),\n",
    "    transforms.RandomHorizontalFlip(p=0.8),\n",
    "    transforms.RandomRotation(15),\n",
    "    transforms.GaussianBlur(3),\n",
    "    transforms.RandomErasing(p=0.9, scale=(0.02, 0.1)),\n",
    "])\n",
    "\n",
    "# Apply transform\n",
    "img, label = train_set[0]\n",
    "img = transform(img)\n",
    "print('Transformed Shape:', img.size())\n",
    "\n",
    "# Show image\n",
    "img = img.permute(1, 2, 0)\n",
    "img = img.numpy()\n",
    "show(img)"
   ]
  },
  {
   "cell_type": "code",
   "execution_count": 4,
   "metadata": {},
   "outputs": [],
   "source": [
    "DATASET = 'finetune_mnist'\n",
    "data_path = './data'\n",
    "ARCH = \"resnet32_quan\"\n",
    "chk_path = './save_finetune/cifar60/model_best_path.tar'\n",
    "BATCH_SIZE = 128\n",
    "if DATASET == 'finetune_mnist':\n",
    "    mean = [0.5]\n",
    "    std = [0.5]\n",
    "    test_transform = transforms.Compose([\n",
    "        transforms.Resize(32),\n",
    "        transforms.ToTensor(),\n",
    "        transforms.Lambda(lambda x: x.repeat(3, 1, 1)),\n",
    "        transforms.Normalize(mean, std)\n",
    "    ])\n",
    "if DATASET == 'finetune_mnist':\n",
    "    test_data = dset.MNIST(data_path,\n",
    "                            train=False,\n",
    "                            transform=test_transform,\n",
    "                            download=True)\n",
    "    num_classes = 10\n",
    "    num_channels = 3\n",
    "\n",
    "test_loader = torch.utils.data.DataLoader(test_data,\n",
    "                                        batch_size=BATCH_SIZE,\n",
    "                                        shuffle=True,\n",
    "                                        num_workers=1,\n",
    "                                        pin_memory=True)"
   ]
  },
  {
   "cell_type": "code",
   "execution_count": null,
   "metadata": {},
   "outputs": [],
   "source": [
    "net = models.__dict__[ARCH](num_classes, num_channels)\n",
    "\n",
    "checkpoint = torch.load(chk_path)\n",
    "state_tmp = net.state_dict()\n",
    "if 'state_dict' in checkpoint.keys():\n",
    "    state_tmp.update(checkpoint['state_dict'])\n",
    "else:\n",
    "    state_tmp.update(checkpoint)\n",
    "\n",
    "#net.load_state_dict(state_tmp)\n",
    "model_dict = net.state_dict()\n",
    "pretrained_dict = {k:v for k, v in checkpoint['state_dict'].items() if k in model_dict}\n",
    "model_dict.update(pretrained_dict)\n",
    "net.load_state_dict(model_dict)"
   ]
  },
  {
   "cell_type": "code",
   "execution_count": null,
   "metadata": {},
   "outputs": [],
   "source": [
    "output_branch = net(input)\n",
    "num_branch = len(output_branch) # the number of branches\n",
    "val_acc, _, val_los = validate(test_loader, net, criterion, log, num_branch, args.ic_only)"
   ]
  }
 ],
 "metadata": {
  "kernelspec": {
   "display_name": "Python 3",
   "language": "python",
   "name": "python3"
  },
  "language_info": {
   "codemirror_mode": {
    "name": "ipython",
    "version": 3
   },
   "file_extension": ".py",
   "mimetype": "text/x-python",
   "name": "python",
   "nbconvert_exporter": "python",
   "pygments_lexer": "ipython3",
   "version": "3.10.13"
  }
 },
 "nbformat": 4,
 "nbformat_minor": 2
}
